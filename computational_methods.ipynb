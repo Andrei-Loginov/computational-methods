{
  "nbformat": 4,
  "nbformat_minor": 0,
  "metadata": {
    "colab": {
      "name": "computational_methods.ipynb",
      "provenance": [],
      "authorship_tag": "ABX9TyMNUXd1OAs+OM4iIT2kj1IZ",
      "include_colab_link": true
    },
    "kernelspec": {
      "name": "python3",
      "display_name": "Python 3"
    }
  },
  "cells": [
    {
      "cell_type": "markdown",
      "metadata": {
        "id": "view-in-github",
        "colab_type": "text"
      },
      "source": [
        "<a href=\"https://colab.research.google.com/github/Andrei-Loginov/computational-methods/blob/master/computational_methods.ipynb\" target=\"_parent\"><img src=\"https://colab.research.google.com/assets/colab-badge.svg\" alt=\"Open In Colab\"/></a>"
      ]
    },
    {
      "cell_type": "code",
      "metadata": {
        "id": "inBqr4pWwWyd",
        "colab_type": "code",
        "colab": {}
      },
      "source": [
        "import sympy as sp\n",
        "import pandas as pd\n",
        "import numpy as np\n",
        "import matplotlib.pyplot as plt"
      ],
      "execution_count": 0,
      "outputs": []
    },
    {
      "cell_type": "code",
      "metadata": {
        "id": "AstxTd-An4EU",
        "colab_type": "code",
        "colab": {}
      },
      "source": [
        "x = sp.symbols('x')\n",
        "y = sp.symbols('y')"
      ],
      "execution_count": 0,
      "outputs": []
    },
    {
      "cell_type": "code",
      "metadata": {
        "id": "ETSMD1aHpoyk",
        "colab_type": "code",
        "colab": {}
      },
      "source": [
        "f = sp.tan(x - y - 0.2) - x * y\n",
        "g = 0.5 * x**2 + 2 * y**2 - 1\n"
      ],
      "execution_count": 0,
      "outputs": []
    },
    {
      "cell_type": "code",
      "metadata": {
        "id": "foNHSW4aqNQM",
        "colab_type": "code",
        "outputId": "bb5cad15-43c6-4ed2-88a7-18f11892a9d3",
        "colab": {
          "base_uri": "https://localhost:8080/",
          "height": 476
        }
      },
      "source": [
        "f_plot = sp.plot_implicit(sp.Eq(f,0))"
      ],
      "execution_count": 0,
      "outputs": [
        {
          "output_type": "stream",
          "text": [
            "/usr/local/lib/python3.6/dist-packages/sympy/plotting/plot.py:890: MatplotlibDeprecationWarning: \n",
            "The set_smart_bounds function was deprecated in Matplotlib 3.2 and will be removed two minor releases later.\n",
            "  self.ax.spines['left'].set_smart_bounds(True)\n",
            "/usr/local/lib/python3.6/dist-packages/sympy/plotting/plot.py:891: MatplotlibDeprecationWarning: \n",
            "The set_smart_bounds function was deprecated in Matplotlib 3.2 and will be removed two minor releases later.\n",
            "  self.ax.spines['bottom'].set_smart_bounds(False)\n",
            "/usr/local/lib/python3.6/dist-packages/sympy/plotting/plot.py:930: MatplotlibDeprecationWarning: \n",
            "The set_smart_bounds function was deprecated in Matplotlib 3.2 and will be removed two minor releases later.\n",
            "  self.ax.spines['left'].set_smart_bounds(False)\n",
            "/usr/local/lib/python3.6/dist-packages/sympy/plotting/plot.py:931: MatplotlibDeprecationWarning: \n",
            "The set_smart_bounds function was deprecated in Matplotlib 3.2 and will be removed two minor releases later.\n",
            "  self.ax.spines['bottom'].set_smart_bounds(False)\n"
          ],
          "name": "stderr"
        },
        {
          "output_type": "display_data",
          "data": {
            "image/png": "[encoded data removed]",
            "text/plain": [
              "<Figure size 432x288 with 1 Axes>"
            ]
          },
          "metadata": {
            "tags": [],
            "needs_background": "light"
          }
        }
      ]
    },
    {
      "cell_type": "code",
      "metadata": {
        "id": "Hc8J3jG5qtLw",
        "colab_type": "code",
        "outputId": "2a8d7ff1-1bea-41a8-ee97-2e75870e9f8a",
        "colab": {
          "base_uri": "https://localhost:8080/",
          "height": 476
        }
      },
      "source": [
        "g_plot = sp.plot_implicit(sp.Eq(g, 0), line_color = 'red')"
      ],
      "execution_count": 0,
      "outputs": [
        {
          "output_type": "stream",
          "text": [
            "/usr/local/lib/python3.6/dist-packages/sympy/plotting/plot.py:890: MatplotlibDeprecationWarning: \n",
            "The set_smart_bounds function was deprecated in Matplotlib 3.2 and will be removed two minor releases later.\n",
            "  self.ax.spines['left'].set_smart_bounds(True)\n",
            "/usr/local/lib/python3.6/dist-packages/sympy/plotting/plot.py:891: MatplotlibDeprecationWarning: \n",
            "The set_smart_bounds function was deprecated in Matplotlib 3.2 and will be removed two minor releases later.\n",
            "  self.ax.spines['bottom'].set_smart_bounds(False)\n",
            "/usr/local/lib/python3.6/dist-packages/sympy/plotting/plot.py:930: MatplotlibDeprecationWarning: \n",
            "The set_smart_bounds function was deprecated in Matplotlib 3.2 and will be removed two minor releases later.\n",
            "  self.ax.spines['left'].set_smart_bounds(False)\n",
            "/usr/local/lib/python3.6/dist-packages/sympy/plotting/plot.py:931: MatplotlibDeprecationWarning: \n",
            "The set_smart_bounds function was deprecated in Matplotlib 3.2 and will be removed two minor releases later.\n",
            "  self.ax.spines['bottom'].set_smart_bounds(False)\n"
          ],
          "name": "stderr"
        },
        {
          "output_type": "display_data",
          "data": {
            "image/png": "[encoded data removed]",
            "text/plain": [
              "<Figure size 432x288 with 1 Axes>"
            ]
          },
          "metadata": {
            "tags": [],
            "needs_background": "light"
          }
        }
      ]
    },
    {
      "cell_type": "code",
      "metadata": {
        "id": "IHCqbskCrLfo",
        "colab_type": "code",
        "colab": {}
      },
      "source": [
        "  rows = []\n",
        "\n",
        "def solve(f, g, x, y, x0, y0):\n",
        "    dfdx = f.diff(x)\n",
        "    dfdy = f.diff(y)\n",
        "    dgdx = g.diff(x)\n",
        "    dgdy = g.diff(y)\n",
        "    d = dfdx * dgdy - dgdx * dfdy\n",
        "    dx = f * dgdy - g * dfdy\n",
        "    dy = dfdx * g - dgdx * f\n",
        "\n",
        "    eps = 10**-5\n",
        "    flag = True\n",
        "    k = 0\n",
        "    while True:\n",
        "        k += 1 \n",
        "        x_step = (dx / d).subs({x: x0, y: y0})\n",
        "        y_step = (dy / d).subs({x: x0, y: y0})\n",
        "        norm = np.linalg.norm([float(x_step), float(y_step)])\n",
        "        x0 -= x_step\n",
        "        y0 -= y_step\n",
        "        rows.append([x0, y0, norm, f.subs({x: x0, y: y0}), g.subs({x: x0, y: y0})])\n",
        "        if (norm < eps):\n",
        "          print('Заданная точность достигнута за' , k, 'итераций')\n",
        "          break\n",
        "    return (x0, y0)"
      ],
      "execution_count": 0,
      "outputs": []
    },
    {
      "cell_type": "code",
      "metadata": {
        "id": "N4UwC3nu5KH9",
        "colab_type": "code",
        "outputId": "8374f299-ea3c-4f7a-d51c-c8002aa41795",
        "colab": {
          "base_uri": "https://localhost:8080/",
          "height": 54
        }
      },
      "source": [
        "solve(f, g, x, y, 1, 1)"
      ],
      "execution_count": 0,
      "outputs": [
        {
          "output_type": "stream",
          "text": [
            "Заданная точность достигнута за 7 итераций\n"
          ],
          "name": "stdout"
        },
        {
          "output_type": "execute_result",
          "data": {
            "text/plain": [
              "(1.09950135534698, 0.444718104418450)"
            ]
          },
          "metadata": {
            "tags": []
          },
          "execution_count": 41
        }
      ]
    },
    {
      "cell_type": "code",
      "metadata": {
        "id": "Jx6GmBz76msz",
        "colab_type": "code",
        "outputId": "f67c7489-4df6-4e7c-82f2-e06e750b4525",
        "colab": {
          "base_uri": "https://localhost:8080/",
          "height": 269
        }
      },
      "source": [
        "pd.DataFrame(rows, columns=['xk', 'yk', 'norm', 'f(xk,yk)', 'g(xk,yk)'])"
      ],
      "execution_count": 0,
      "outputs": [
        {
          "output_type": "execute_result",
          "data": {
            "text/html": [
              "<div>\n",
              "<style scoped>\n",
              "    .dataframe tbody tr th:only-of-type {\n",
              "        vertical-align: middle;\n",
              "    }\n",
              "\n",
              "    .dataframe tbody tr th {\n",
              "        vertical-align: top;\n",
              "    }\n",
              "\n",
              "    .dataframe thead th {\n",
              "        text-align: right;\n",
              "    }\n",
              "</style>\n",
              "<table border=\"1\" class=\"dataframe\">\n",
              "  <thead>\n",
              "    <tr style=\"text-align: right;\">\n",
              "      <th></th>\n",
              "      <th>xk</th>\n",
              "      <th>yk</th>\n",
              "      <th>norm</th>\n",
              "      <th>f(xk,yk)</th>\n",
              "      <th>g(xk,yk)</th>\n",
              "    </tr>\n",
              "  </thead>\n",
              "  <tbody>\n",
              "    <tr>\n",
              "      <th>0</th>\n",
              "      <td>1.79312508422536</td>\n",
              "      <td>0.426718728943661</td>\n",
              "      <td>9.786209e-01</td>\n",
              "      <td>1.57141098528309</td>\n",
              "      <td>0.971826531101685</td>\n",
              "    </tr>\n",
              "    <tr>\n",
              "      <th>1</th>\n",
              "      <td>1.36665739607235</td>\n",
              "      <td>0.305376139660293</td>\n",
              "      <td>4.433945e-01</td>\n",
              "      <td>0.747225728628217</td>\n",
              "      <td>0.120385392467271</td>\n",
              "    </tr>\n",
              "    <tr>\n",
              "      <th>2</th>\n",
              "      <td>1.18742441942353</td>\n",
              "      <td>0.407352575039675</td>\n",
              "      <td>2.062126e-01</td>\n",
              "      <td>0.171570741954495</td>\n",
              "      <td>0.0368606167045674</td>\n",
              "    </tr>\n",
              "    <tr>\n",
              "      <th>3</th>\n",
              "      <td>1.10863732171636</td>\n",
              "      <td>0.442146209916612</td>\n",
              "      <td>8.612783e-02</td>\n",
              "      <td>0.0133796587742399</td>\n",
              "      <td>0.00552489743845919</td>\n",
              "    </tr>\n",
              "    <tr>\n",
              "      <th>4</th>\n",
              "      <td>1.09958087136662</td>\n",
              "      <td>0.444699336755802</td>\n",
              "      <td>9.409450e-03</td>\n",
              "      <td>0.000107062516694567</td>\n",
              "      <td>5.40465597825279e-5</td>\n",
              "    </tr>\n",
              "    <tr>\n",
              "      <th>5</th>\n",
              "      <td>1.09950136089506</td>\n",
              "      <td>0.444718103162143</td>\n",
              "      <td>8.169512e-05</td>\n",
              "      <td>7.34522692669159e-9</td>\n",
              "      <td>3.86531379126254e-9</td>\n",
              "    </tr>\n",
              "    <tr>\n",
              "      <th>6</th>\n",
              "      <td>1.09950135534698</td>\n",
              "      <td>0.444718104418450</td>\n",
              "      <td>5.688542e-09</td>\n",
              "      <td>1.66533453693773e-16</td>\n",
              "      <td>0</td>\n",
              "    </tr>\n",
              "  </tbody>\n",
              "</table>\n",
              "</div>"
            ],
            "text/plain": [
              "                 xk  ...             g(xk,yk)\n",
              "0  1.79312508422536  ...    0.971826531101685\n",
              "1  1.36665739607235  ...    0.120385392467271\n",
              "2  1.18742441942353  ...   0.0368606167045674\n",
              "3  1.10863732171636  ...  0.00552489743845919\n",
              "4  1.09958087136662  ...  5.40465597825279e-5\n",
              "5  1.09950136089506  ...  3.86531379126254e-9\n",
              "6  1.09950135534698  ...                    0\n",
              "\n",
              "[7 rows x 5 columns]"
            ]
          },
          "metadata": {
            "tags": []
          },
          "execution_count": 43
        }
      ]
    }
  ]
}